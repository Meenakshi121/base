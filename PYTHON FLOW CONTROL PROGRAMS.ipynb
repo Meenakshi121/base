{
 "cells": [
  {
   "cell_type": "code",
   "execution_count": 3,
   "metadata": {},
   "outputs": [
    {
     "name": "stdout",
     "output_type": "stream",
     "text": [
      "23 is big\n"
     ]
    }
   ],
   "source": [
    "# Greater of two numbers\n",
    "\n",
    "def greater(a,b):\n",
    "    if a>b:\n",
    "        print(a , \"is big\")\n",
    "    elif b>a:\n",
    "        print(b, \"is big\")\n",
    "    else:\n",
    "        print(\"both are equal\")\n",
    "    \n",
    "greater(2,23)"
   ]
  },
  {
   "cell_type": "code",
   "execution_count": 4,
   "metadata": {},
   "outputs": [
    {
     "name": "stdout",
     "output_type": "stream",
     "text": [
      "enter number89\n",
      "89 is not a factor of 1000\n"
     ]
    }
   ],
   "source": [
    "#Check if the given number is a factor of 1000\n",
    "\n",
    "n=int(input(\"enter number\"))\n",
    "if 1000%n==0:\n",
    "    print(n , \"is a factor of 1000\")\n",
    "else:\n",
    "    print(n , \"is not a factor of 1000\")"
   ]
  },
  {
   "cell_type": "code",
   "execution_count": 11,
   "metadata": {},
   "outputs": [
    {
     "name": "stdout",
     "output_type": "stream",
     "text": [
      "enter number1: 12\n",
      "enter number2: 2\n",
      "enter which operation want to perform: +,-,/,*,%,**+\n",
      "12 + 2 = 14\n"
     ]
    }
   ],
   "source": [
    "#Calculator\n",
    "\n",
    "n1=int(input(\"enter number1: \"))\n",
    "n2=int(input(\"enter number2: \"))\n",
    "op=input(\"enter which operation want to perform: +,-,/,*,%,**\")\n",
    "\n",
    "\n",
    "if op=='+':\n",
    "    print(n1,'+',n2,'=',n1+n2)\n",
    "elif op=='-':   \n",
    "    print(n1,'-',n2,'=',n1-n2)\n",
    "elif op=='*':\n",
    "     print(n1,'*',n2,'=',n1*n2)\n",
    "elif op=='%':\n",
    "    print(n1,'%',n2,'=',n1%n2)\n",
    "elif op=='/':\n",
    "    print(n1,'/',n2,'=',n1/n2)\n",
    "else:\n",
    "    print(n1,'**',n2,'=',n1**n2)"
   ]
  },
  {
   "cell_type": "code",
   "execution_count": 12,
   "metadata": {},
   "outputs": [
    {
     "data": {
      "text/plain": [
       "9999"
      ]
     },
     "execution_count": 12,
     "metadata": {},
     "output_type": "execute_result"
    }
   ],
   "source": [
    "#Greatest of 4 numbers\n",
    "\n",
    "def largest(a,b,c,d):\n",
    "    if a>b or a>c or a>d:\n",
    "        return a\n",
    "    elif b>c or b>d:\n",
    "        return b\n",
    "    elif c>d:\n",
    "        return c\n",
    "    else:\n",
    "        return d\n",
    "largest(12,345,567,9999)"
   ]
  },
  {
   "cell_type": "code",
   "execution_count": 5,
   "metadata": {},
   "outputs": [
    {
     "name": "stdout",
     "output_type": "stream",
     "text": [
      "give number: 78\n",
      "enter string: python\n",
      "not equal\n"
     ]
    }
   ],
   "source": [
    "#Check if a number is equal to a string\n",
    "\n",
    "number=int(input(\"give number: \"))\n",
    "string=input(\"enter string: \" )\n",
    "\n",
    "if string==str(number):\n",
    "    print(\"equal\")\n",
    "else:\n",
    "    print(\"not equal\")"
   ]
  },
  {
   "cell_type": "code",
   "execution_count": 7,
   "metadata": {},
   "outputs": [
    {
     "name": "stdout",
     "output_type": "stream",
     "text": [
      "enter year2019\n",
      "0.031536\n"
     ]
    }
   ],
   "source": [
    "#Calculate the number of nano seconds in a given  year including leap year\n",
    "\n",
    "year=int(input(\"enter year\"))\n",
    "if year%400==0 or (year%4==0 and year%100!=0):\n",
    "    nano=366*24*60*60*(10**(-9))\n",
    "    print(nano)\n",
    "else:\n",
    "    nano=365*24*60*60*(10**(-9))\n",
    "    print(nano)"
   ]
  },
  {
   "cell_type": "code",
   "execution_count": 8,
   "metadata": {},
   "outputs": [
    {
     "name": "stdout",
     "output_type": "stream",
     "text": [
      "enter number100\n",
      "100 is a multiple of 10\n"
     ]
    }
   ],
   "source": [
    "#check if the number is multiple of 10\n",
    "\n",
    "num=int(input(\"enter number\"))\n",
    "if num%10==0:\n",
    "    print(num,\"is a multiple of 10\")\n",
    "else:\n",
    "    print(num,\"is not a multiple of 10\")"
   ]
  },
  {
   "cell_type": "code",
   "execution_count": 9,
   "metadata": {},
   "outputs": [
    {
     "name": "stdout",
     "output_type": "stream",
     "text": [
      "enter number: 23\n",
      "enter lower bound: 12\n",
      "enter upper bound: 35\n",
      "23 exists in given  range\n"
     ]
    }
   ],
   "source": [
    "#check if the number exist in the given range\n",
    "\n",
    "num=int(input(\"enter number: \"))\n",
    "low=int(input(\"enter lower bound: \"))\n",
    "upper=int(input(\"enter upper bound: \"))\n",
    "\n",
    "if low<=num<=upper:\n",
    "    print(num , \"exists in given  range\")\n",
    "else:\n",
    "    print(num, \"does not exist in a given range\")"
   ]
  },
  {
   "cell_type": "code",
   "execution_count": 15,
   "metadata": {},
   "outputs": [
    {
     "name": "stdout",
     "output_type": "stream",
     "text": [
      "enter amount to withdraw: 500\n",
      "Account Balance: 500\n"
     ]
    }
   ],
   "source": [
    "# python code to Bank account ATM Example\n",
    "# stop user from withdrawing money more than the available account balance.\n",
    "# otherwise display the available balance after withdraw\n",
    "\n",
    "savingAmt = 1000\n",
    "withdrawAmt = int(input(\"enter amount to withdraw: \"))\n",
    "if withdrawAmt > savingAmt:\n",
    "    print (\"Insufficient balance\")\n",
    "else:\n",
    "    savingAmt = savingAmt - withdrawAmt\n",
    "    print (\"Account Balance:\" , savingAmt);"
   ]
  },
  {
   "cell_type": "code",
   "execution_count": 18,
   "metadata": {},
   "outputs": [
    {
     "name": "stdout",
     "output_type": "stream",
     "text": [
      "enter a number: 78\n",
      "78 is even\n"
     ]
    }
   ],
   "source": [
    "# Python program to find whether the given number is even or odd\n",
    "\n",
    "num=int(input(\"enter a number: \"))\n",
    "if num%2==0:\n",
    "    print(num, \"is even\")\n",
    "else:\n",
    "    print(num , \"is odd\")"
   ]
  },
  {
   "cell_type": "code",
   "execution_count": 23,
   "metadata": {},
   "outputs": [
    {
     "name": "stdout",
     "output_type": "stream",
     "text": [
      "enter a number: -90\n",
      "Negative number\n"
     ]
    }
   ],
   "source": [
    "# Python program to findout whether the given number is positive,negative or zero\n",
    "\n",
    "num = int(input(\"enter a number: \"))\n",
    "if num >= 0: \n",
    "    if num == 0: \n",
    "        print(\"Zero\") \n",
    "    else: \n",
    "        print(\"Positive number\") \n",
    "else: \n",
    "    print(\"Negative number\") "
   ]
  },
  {
   "cell_type": "code",
   "execution_count": null,
   "metadata": {},
   "outputs": [],
   "source": [
    "#if elif statement example\n",
    "\n",
    "letter = \"A\"  \n",
    "if letter == B: \n",
    "    print(\"letter is B\")   \n",
    "elif letter == \"C\": \n",
    "    print(\"letter is C\")  \n",
    "elif num == \"A\": \n",
    "    print(\"letter is A\")   \n",
    "else: \n",
    "    print(\"letter isn't A, B or C\") "
   ]
  },
  {
   "cell_type": "code",
   "execution_count": null,
   "metadata": {},
   "outputs": [],
   "source": [
    "#python program to determine the discount eligibility based on age\n",
    "\n",
    "x = float(input(\"enter age: \"))\n",
    "\n",
    "if age >= 60:\n",
    "    print('senior discount')\n",
    "elif 18 <= Age < 60:\n",
    "    print('no discount')\n",
    "else:\n",
    "    print('junior discount')"
   ]
  },
  {
   "cell_type": "markdown",
   "metadata": {},
   "source": [
    "### Loops"
   ]
  },
  {
   "cell_type": "code",
   "execution_count": 25,
   "metadata": {},
   "outputs": [
    {
     "name": "stdout",
     "output_type": "stream",
     "text": [
      "sum of first 10 numbers: 55\n"
     ]
    }
   ],
   "source": [
    "# Sum of first 10 numbers\n",
    "\n",
    "summ=0\n",
    "for i in range(1,11):\n",
    "    summ=summ+i\n",
    "print(\"sum of first 10 numbers:\", summ)"
   ]
  },
  {
   "cell_type": "code",
   "execution_count": 13,
   "metadata": {},
   "outputs": [
    {
     "name": "stdout",
     "output_type": "stream",
     "text": [
      "20 22 24 26 28 30 32 34 36 38 40 42 44 46 48 50 "
     ]
    }
   ],
   "source": [
    "#function to print alternative numbers in a range\n",
    "\n",
    "def alternate(l,r):\n",
    "    for i in range(l,r+1,2):\n",
    "        print(i, end=\" \")\n",
    "alternate(20,50)"
   ]
  },
  {
   "cell_type": "code",
   "execution_count": 14,
   "metadata": {},
   "outputs": [
    {
     "name": "stdout",
     "output_type": "stream",
     "text": [
      "10 9 8 7 6 5 4 3 2 1 "
     ]
    }
   ],
   "source": [
    "#function to print numbers in reverse order\n",
    "\n",
    "def printreverse(start,end):\n",
    "    for i in range(end,start-1,-1):\n",
    "        print(i,end=\" \")\n",
    "printreverse(1,10)"
   ]
  },
  {
   "cell_type": "code",
   "execution_count": 15,
   "metadata": {},
   "outputs": [
    {
     "name": "stdout",
     "output_type": "stream",
     "text": [
      "19 17 15 13 11 "
     ]
    }
   ],
   "source": [
    "#print odd numbers in reverse order in a given range\n",
    "\n",
    "def odd(s,e):\n",
    "    for i in range(e,s-1,-1):\n",
    "        if i%2!=0:\n",
    "            print(i,end=\" \")\n",
    "odd(10,20)"
   ]
  },
  {
   "cell_type": "code",
   "execution_count": 2,
   "metadata": {},
   "outputs": [
    {
     "name": "stdout",
     "output_type": "stream",
     "text": [
      "4\n"
     ]
    },
    {
     "data": {
      "text/plain": [
       "30"
      ]
     },
     "execution_count": 2,
     "metadata": {},
     "output_type": "execute_result"
    }
   ],
   "source": [
    "# Sum of squares of first N numbers\n",
    "\n",
    "num=int(input())\n",
    "def sumsquares(num):\n",
    "    sum=0\n",
    "    for i in range(1,num+1):\n",
    "        sum=sum+i**2\n",
    "    return sum\n",
    "\n",
    "sumsquares(num)"
   ]
  },
  {
   "cell_type": "code",
   "execution_count": 16,
   "metadata": {},
   "outputs": [
    {
     "data": {
      "text/plain": [
       "15150"
      ]
     },
     "execution_count": 16,
     "metadata": {},
     "output_type": "execute_result"
    }
   ],
   "source": [
    "#function to calculate sum of numbers in a given range\n",
    "\n",
    "def sum(s,e):\n",
    "    s1=0\n",
    "    for i in range(s,e+1):\n",
    "        s1=s1+i\n",
    "    return s1\n",
    "sum(100,200)"
   ]
  },
  {
   "cell_type": "code",
   "execution_count": 17,
   "metadata": {},
   "outputs": [
    {
     "name": "stdout",
     "output_type": "stream",
     "text": [
      "2000 2004 2008 2012 2016 2020 "
     ]
    }
   ],
   "source": [
    "#function to generate leap years in a given range\n",
    "\n",
    "def leapy(s,e):\n",
    "    for i in range(s,e+1):\n",
    "        if i%400==0 or (i%4==0 and i%100!=0):\n",
    "            print(i,end=\" \")\n",
    "        \n",
    "leapy(2000,2020)"
   ]
  },
  {
   "cell_type": "code",
   "execution_count": 18,
   "metadata": {},
   "outputs": [
    {
     "name": "stdout",
     "output_type": "stream",
     "text": [
      "not a prime\n"
     ]
    }
   ],
   "source": [
    "#Function to check if a given number is Prime\n",
    "\n",
    "def prime(n):\n",
    "    count=0\n",
    "    for i in range(2,n//2+1):  #excluding 1 and that number\n",
    "        if n%i==0:\n",
    "            count=count+1\n",
    "    if n==1:\n",
    "        print(\"not a prime\")\n",
    "    elif  count==0:\n",
    "        print(\"prime\")\n",
    "    else:\n",
    "        print(\"not a prime\")\n",
    "        \n",
    "prime(9)"
   ]
  },
  {
   "cell_type": "code",
   "execution_count": 19,
   "metadata": {},
   "outputs": [
    {
     "name": "stdout",
     "output_type": "stream",
     "text": [
      "6 28 496 "
     ]
    }
   ],
   "source": [
    "# Function to generate all perfect numbers in a given range\n",
    "        \n",
    "def isperfect(num):\n",
    "    sum=0\n",
    "    for i in range(1,num):\n",
    "        if num%i==0:\n",
    "            sum=sum+i\n",
    "    if num==sum:\n",
    "        return True\n",
    "    else:\n",
    "        return False     \n",
    "        \n",
    "def generateperfect(lb,up):\n",
    "    for i in range(lb,up+1):\n",
    "        if  isperfect(i):\n",
    "            print(i,end=\" \")\n",
    "            \n",
    "generateperfect(1,1000)"
   ]
  },
  {
   "cell_type": "code",
   "execution_count": 20,
   "metadata": {},
   "outputs": [
    {
     "name": "stdout",
     "output_type": "stream",
     "text": [
      "371\n"
     ]
    },
    {
     "data": {
      "text/plain": [
       "True"
      ]
     },
     "execution_count": 20,
     "metadata": {},
     "output_type": "execute_result"
    }
   ],
   "source": [
    "# Function to check armstrong or not\n",
    "\n",
    "def armstrong(n):\n",
    "    s=0\n",
    "    num=n\n",
    "    while num!=0:\n",
    "        r=num%10\n",
    "        s=s+(r*r*r)\n",
    "        num=num//10\n",
    "    print(s)\n",
    "    if s==n:\n",
    "        return True\n",
    "    else:\n",
    "        return False\n",
    "    \n",
    "armstrong(371)"
   ]
  },
  {
   "cell_type": "code",
   "execution_count": 36,
   "metadata": {},
   "outputs": [
    {
     "name": "stdout",
     "output_type": "stream",
     "text": [
      "Current Letter : h\n",
      "Current Letter : e\n",
      "Current Letter : w\n",
      "Current Letter : r\n",
      "Current Letter : d\n"
     ]
    }
   ],
   "source": [
    "# Prints all letters except 'l' and 'o' \n",
    "\n",
    "i = 0\n",
    "a = 'helloworld'\n",
    "while i<len(a):  \n",
    "    if a[i]=='l' or a[i]=='o':  \n",
    "        i+=1\n",
    "        continue\n",
    "    print('Current Letter :', a[i]) \n",
    "    i+=1\n"
   ]
  },
  {
   "cell_type": "code",
   "execution_count": 29,
   "metadata": {},
   "outputs": [
    {
     "name": "stdout",
     "output_type": "stream",
     "text": [
      "enter a number:564\n",
      "15\n"
     ]
    }
   ],
   "source": [
    "#digit sum\n",
    "\n",
    "def digitSum(n): \n",
    "    s=0\n",
    "    while(n!= 0): \n",
    "        s=s+int(n % 10) \n",
    "        n=int(n/10) \n",
    "    return s\n",
    "  \n",
    "n = int(input(\"enter a number:\"))\n",
    "print(digitSum(n)) "
   ]
  },
  {
   "cell_type": "code",
   "execution_count": 30,
   "metadata": {},
   "outputs": [
    {
     "name": "stdout",
     "output_type": "stream",
     "text": [
      "90\n"
     ]
    }
   ],
   "source": [
    "# program to display student's marks from record\n",
    "\n",
    "student_name = 'James'\n",
    "marks = {'James': 90, 'Jules': 55, 'Arthur': 77}\n",
    "for student in marks:\n",
    "    if student == student_name:\n",
    "        print(marks[student])\n",
    "        break\n",
    "else:\n",
    "    print('No entry with that name found.')"
   ]
  },
  {
   "cell_type": "code",
   "execution_count": 31,
   "metadata": {},
   "outputs": [
    {
     "name": "stdout",
     "output_type": "stream",
     "text": [
      "s\n",
      "t\n",
      "r\n",
      "The end\n"
     ]
    }
   ],
   "source": [
    "# Use of break statement inside the loop\n",
    "\n",
    "for val in \"string\":\n",
    "    if val == \"i\":\n",
    "        break\n",
    "    print(val)\n",
    "\n",
    "print(\"The end\")"
   ]
  },
  {
   "cell_type": "code",
   "execution_count": 32,
   "metadata": {},
   "outputs": [
    {
     "name": "stdout",
     "output_type": "stream",
     "text": [
      "s\n",
      "t\n",
      "r\n",
      "n\n",
      "g\n",
      "The end\n"
     ]
    }
   ],
   "source": [
    "# Program to show the use of continue statement inside loops\n",
    "\n",
    "for val in \"string\":\n",
    "    if val == \"i\":\n",
    "        continue\n",
    "    print(val)\n",
    "\n",
    "print(\"The end\")"
   ]
  },
  {
   "cell_type": "code",
   "execution_count": 34,
   "metadata": {},
   "outputs": [],
   "source": [
    "# pass is just a placeholder for functionality to be added later.\n",
    "sequence = {'p', 'a', 's', 's'}\n",
    "for val in sequence:\n",
    "    pass"
   ]
  },
  {
   "cell_type": "code",
   "execution_count": 10,
   "metadata": {},
   "outputs": [
    {
     "name": "stdout",
     "output_type": "stream",
     "text": [
      "enter number 21\n",
      "21 * 1 = 21\n",
      "21 * 2 = 42\n",
      "21 * 3 = 63\n",
      "21 * 4 = 84\n",
      "21 * 5 = 105\n",
      "21 * 6 = 126\n",
      "21 * 7 = 147\n",
      "21 * 8 = 168\n",
      "21 * 9 = 189\n",
      "21 * 10 = 210\n"
     ]
    }
   ],
   "source": [
    "#print table for a given number\n",
    "\n",
    "n1=int(input(\"enter number \"))\n",
    "for i in range(1,11):  #range function automatically start with index o, if we dont specify start index and end index is excluded\n",
    "        n4=n1*i\n",
    "        print(n1,'*',i,'=',n4)"
   ]
  },
  {
   "cell_type": "code",
   "execution_count": null,
   "metadata": {},
   "outputs": [],
   "source": []
  }
 ],
 "metadata": {
  "kernelspec": {
   "display_name": "Python 3",
   "language": "python",
   "name": "python3"
  },
  "language_info": {
   "codemirror_mode": {
    "name": "ipython",
    "version": 3
   },
   "file_extension": ".py",
   "mimetype": "text/x-python",
   "name": "python",
   "nbconvert_exporter": "python",
   "pygments_lexer": "ipython3",
   "version": "3.7.6"
  }
 },
 "nbformat": 4,
 "nbformat_minor": 4
}
