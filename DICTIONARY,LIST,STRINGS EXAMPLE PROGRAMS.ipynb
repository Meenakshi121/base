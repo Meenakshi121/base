{
 "cells": [
  {
   "cell_type": "markdown",
   "metadata": {},
   "source": [
    "### Dictionary"
   ]
  },
  {
   "cell_type": "code",
   "execution_count": null,
   "metadata": {},
   "outputs": [],
   "source": [
    "#dictionary comprehension \n",
    "\n",
    "squares = {x:x*x for x in range(6)}\n",
    "squares"
   ]
  },
  {
   "cell_type": "code",
   "execution_count": 2,
   "metadata": {},
   "outputs": [
    {
     "name": "stdout",
     "output_type": "stream",
     "text": [
      "sum is: 265\n"
     ]
    }
   ],
   "source": [
    "#print the sum of all marks \n",
    "\n",
    "d={'maths':90,'science':89,'social':86}   #sum = 90+89+86\n",
    "s=sum(d.values())\n",
    "print(\"sum is:\", s)"
   ]
  },
  {
   "cell_type": "code",
   "execution_count": 3,
   "metadata": {},
   "outputs": [
    {
     "name": "stdout",
     "output_type": "stream",
     "text": [
      "average is: 88.33333333333333\n"
     ]
    }
   ],
   "source": [
    "# print the average of all marks \n",
    "\n",
    "d={'maths':90,'science':89,'social':86}   #sum = 90+89+86\n",
    "lis=d.values()\n",
    "#print(lis)\n",
    "summ=sum(lis)\n",
    "l=len(lis)\n",
    "avg=summ/l\n",
    "print(\"average is:\", avg)"
   ]
  },
  {
   "cell_type": "code",
   "execution_count": 4,
   "metadata": {},
   "outputs": [
    {
     "data": {
      "text/plain": [
       "88.33333333333333"
      ]
     },
     "execution_count": 4,
     "metadata": {},
     "output_type": "execute_result"
    }
   ],
   "source": [
    "sum(d.values())/len(d.values())  #average"
   ]
  },
  {
   "cell_type": "code",
   "execution_count": 51,
   "metadata": {},
   "outputs": [
    {
     "name": "stdout",
     "output_type": "stream",
     "text": [
      "{'Ram': 55, 'anil': 65, 'abdul': 78}\n"
     ]
    }
   ],
   "source": [
    "#PRINT name:marks format\n",
    "\n",
    "dd=\"Ram 55 65 anil abdul 78\"\n",
    "dl=dd.split()\n",
    "n=[]\n",
    "s=[]\n",
    "d={}\n",
    "for i in dl:\n",
    "    if i.isdigit():\n",
    "        n.append(i)\n",
    "    else:\n",
    "        s.append(i)\n",
    "    \n",
    "for i in range(len(s)):\n",
    "         d[s[i]]=int(n[i])\n",
    "print(d)"
   ]
  },
  {
   "cell_type": "code",
   "execution_count": 52,
   "metadata": {},
   "outputs": [
    {
     "name": "stdout",
     "output_type": "stream",
     "text": [
      "stu2\n"
     ]
    }
   ],
   "source": [
    "#print student name who have maximum marks\n",
    "\n",
    "d={\"stu1\":60,\"stu2\":90,\"stu3\":80}\n",
    "\n",
    "m=max(d.values())\n",
    "  \n",
    "for k,v in d.items():\n",
    "    if v==m:\n",
    "        print(k)"
   ]
  },
  {
   "cell_type": "code",
   "execution_count": 11,
   "metadata": {},
   "outputs": [
    {
     "name": "stdout",
     "output_type": "stream",
     "text": [
      "ac\n",
      "ad\n",
      "bc\n",
      "bd\n"
     ]
    }
   ],
   "source": [
    "#Write a Python program to create and display all combinations of letters, selecting \n",
    "# each letter from a different key in a dictionary\n",
    "\n",
    "import itertools      \n",
    "d ={'1':['a','b'], '2':['c','d']}\n",
    "for i in itertools.product(*[d[k] for k in sorted(d.keys())]):\n",
    "    print(''.join(i))"
   ]
  },
  {
   "cell_type": "code",
   "execution_count": 14,
   "metadata": {},
   "outputs": [
    {
     "name": "stdout",
     "output_type": "stream",
     "text": [
      "original list:  [{'stu1': '90'}, {'stu2': '89'}, {'stu3': '90'}, {'stu4': '80'}, {'stu5': '89'}, {'stu6': '85'}, {'stu7': '83'}]\n",
      "unique values:  {'90', '83', '85', '89', '80'}\n"
     ]
    }
   ],
   "source": [
    "#Write a Python program to print all unique values in a dictionary. \n",
    "        \n",
    "l = [{\"stu1\":\"90\"}, {\"stu2\": \"89\"}, {\"stu3\": \"90\"}, {\"stu4\": \"80\"}, {\"stu5\":\"89\"}, {\"stu6\":\"85\"},{\"stu7\":\"83\"}]\n",
    "print(\"original list: \",l)\n",
    "uniq = set( val for dic in l for val in dic.values())\n",
    "print(\"unique values: \",uniq)"
   ]
  },
  {
   "cell_type": "markdown",
   "metadata": {},
   "source": [
    "### Contacts Application\n",
    "* Add contact\n",
    "* Search for contact\n",
    "* List all Contacts\n",
    "* Modify the contact\n",
    "* Delete the contact"
   ]
  },
  {
   "cell_type": "code",
   "execution_count": 43,
   "metadata": {},
   "outputs": [
    {
     "name": "stdout",
     "output_type": "stream",
     "text": [
      "Contact name1 added\n"
     ]
    }
   ],
   "source": [
    "contacts={}\n",
    "\n",
    "def addContact(name,phone):\n",
    "    #Verify that the contact doesnot already exist in dictionary\n",
    "    if name not in contacts:\n",
    "        contacts[name]=phone\n",
    "        print(\"Contact %s added\" %name)\n",
    "    else:\n",
    "        print(\"Contact %s already exists\" %name)\n",
    "        \n",
    "addContact(\"name1\",\"9867544487\")"
   ]
  },
  {
   "cell_type": "code",
   "execution_count": 44,
   "metadata": {},
   "outputs": [
    {
     "name": "stdout",
     "output_type": "stream",
     "text": [
      "name1 : 9867544487\n"
     ]
    }
   ],
   "source": [
    "def searchContacts(name):\n",
    "    if name in contacts:\n",
    "        print(name,\":\",contacts[name])\n",
    "    else:\n",
    "        print(\"%s does not exist\" %name)\n",
    "    return\n",
    "              \n",
    "searchContacts(\"name1\")"
   ]
  },
  {
   "cell_type": "code",
   "execution_count": 45,
   "metadata": {},
   "outputs": [
    {
     "name": "stdout",
     "output_type": "stream",
     "text": [
      "dict_items([('name1', '9867544487')])\n"
     ]
    }
   ],
   "source": [
    "def allContacts():   #Displaying all contacts using function\n",
    "    for i in contacts:\n",
    "        print(contacts.items())\n",
    "    \n",
    "allContacts()"
   ]
  },
  {
   "cell_type": "code",
   "execution_count": 46,
   "metadata": {},
   "outputs": [
    {
     "name": "stdout",
     "output_type": "stream",
     "text": [
      "name1 : 9087654321\n"
     ]
    }
   ],
   "source": [
    "def modifycontact(name):  #Modifying contacts \n",
    "    if name in contacts:\n",
    "        contacts[name]='9087654321'\n",
    "        print(name,\":\",contacts[name])\n",
    "    else:\n",
    "        print(\"%s does not exist\" %name)\n",
    "    return\n",
    "              \n",
    "modifycontact(\"name1\")"
   ]
  },
  {
   "cell_type": "code",
   "execution_count": 47,
   "metadata": {},
   "outputs": [
    {
     "name": "stdout",
     "output_type": "stream",
     "text": [
      "2 contacts added successfully\n"
     ]
    }
   ],
   "source": [
    "#New contacts is given as a dictionary\n",
    "#Merge new contacts with existing contacts\n",
    "\n",
    "def importContacts(newContacts):\n",
    "    contacts.update(newContacts)\n",
    "    print(len(newContacts.keys()),\"contacts added successfully\")\n",
    "    return\n",
    "          \n",
    "newContacts={\"name2\":9087656767,\"name3\":7065769570}\n",
    "   \n",
    "importContacts(newContacts)"
   ]
  },
  {
   "cell_type": "code",
   "execution_count": 48,
   "metadata": {},
   "outputs": [
    {
     "name": "stdout",
     "output_type": "stream",
     "text": [
      "Contact name1 removed\n"
     ]
    }
   ],
   "source": [
    "def delete(name):    #Deleting contact from dictionary\n",
    "    if name in contacts:\n",
    "        contacts.pop(name)\n",
    "        print(\"Contact %s removed\" %name)\n",
    "    else:\n",
    "        print(\"contact %s not exists\")\n",
    "        \n",
    "delete(\"name1\")"
   ]
  },
  {
   "cell_type": "code",
   "execution_count": 49,
   "metadata": {},
   "outputs": [
    {
     "data": {
      "text/plain": [
       "dict_items([('name2', 9087656767), ('name3', 7065769570)])"
      ]
     },
     "execution_count": 49,
     "metadata": {},
     "output_type": "execute_result"
    }
   ],
   "source": [
    "\n",
    "contacts.items()"
   ]
  },
  {
   "cell_type": "markdown",
   "metadata": {},
   "source": [
    "### Lists"
   ]
  },
  {
   "cell_type": "code",
   "execution_count": 22,
   "metadata": {},
   "outputs": [
    {
     "data": {
      "text/plain": [
       "87"
      ]
     },
     "execution_count": 22,
     "metadata": {},
     "output_type": "execute_result"
    }
   ],
   "source": [
    "# Function to identify second largest in a unique list\n",
    "# sort the data and select 2nd large\n",
    "# sort the data in reverse and select 2nd one\n",
    "# Remove max element and get max \n",
    "\n",
    "li=[90,87,65,56]\n",
    "\n",
    "def secondlargest(li):\n",
    "    li.sort()   #second largest for unique data\n",
    "    return li[-2]\n",
    "\n",
    "secondlargest(li)"
   ]
  },
  {
   "cell_type": "code",
   "execution_count": 26,
   "metadata": {},
   "outputs": [
    {
     "data": {
      "text/plain": [
       "34"
      ]
     },
     "execution_count": 26,
     "metadata": {},
     "output_type": "execute_result"
    }
   ],
   "source": [
    "#Function that returns nth largest\n",
    "def genericlargest(l,n):\n",
    "    l.sort()\n",
    "    return l[-n]\n",
    "\n",
    "genericlargest([1,2,34,235],2)"
   ]
  },
  {
   "cell_type": "code",
   "execution_count": 28,
   "metadata": {},
   "outputs": [
    {
     "name": "stdout",
     "output_type": "stream",
     "text": [
      "-1\n",
      "4\n",
      "0\n"
     ]
    }
   ],
   "source": [
    "# Function to search for data in list using linear search\n",
    "\n",
    "#Function to search for data in list\n",
    "#search for the key in the list,return index(position) or return -1 if not found\n",
    "\n",
    "def linearsearch(li,key):\n",
    "    for i in range(0,len(li)):  \n",
    "        if li[i]==key:\n",
    "            return i\n",
    "    return -1\n",
    "\n",
    "def linearsearch2(li,key):     #search based on element\n",
    "    for element in li:\n",
    "        if element==key:\n",
    "            return li.index(element)\n",
    "    return -1    \n",
    "\n",
    "def linearsearch3(li,key):    #search based on key\n",
    "    for key in li:\n",
    "        return li.index(key)\n",
    "    return -1\n",
    "li=[10,30,18,76,56,54,65]        \n",
    "print(linearsearch(li,5))\n",
    "print(linearsearch2(li,56))\n",
    "print(linearsearch3(li,65))\n"
   ]
  },
  {
   "cell_type": "markdown",
   "metadata": {},
   "source": [
    "### Strings"
   ]
  },
  {
   "cell_type": "code",
   "execution_count": 30,
   "metadata": {},
   "outputs": [
    {
     "data": {
      "text/plain": [
       "2"
      ]
     },
     "execution_count": 30,
     "metadata": {},
     "output_type": "execute_result"
    }
   ],
   "source": [
    "#Function to count the occurances of a character in a string\n",
    "\n",
    "def countcharoccurs(st,c):\n",
    "    count=0\n",
    "    for ch in st:\n",
    "        if ch==c:\n",
    "            count=count+1\n",
    "    return count\n",
    "    \n",
    "countcharoccurs(\"hello\",\"l\")"
   ]
  },
  {
   "cell_type": "code",
   "execution_count": 32,
   "metadata": {},
   "outputs": [
    {
     "name": "stdout",
     "output_type": "stream",
     "text": [
      "2\n"
     ]
    }
   ],
   "source": [
    "# Function to find number of occurances of a substring\n",
    "\n",
    "\n",
    "s=\"Ppython programming python\"\n",
    "print(s.count(\"python\"))"
   ]
  },
  {
   "cell_type": "code",
   "execution_count": 53,
   "metadata": {},
   "outputs": [
    {
     "data": {
      "text/plain": [
       "[1, 2, 3, 4, 5]"
      ]
     },
     "execution_count": 53,
     "metadata": {},
     "output_type": "execute_result"
    }
   ],
   "source": [
    "#Converting string into list items\n",
    "\n",
    "s=\"1 2 3 4 5\"\n",
    "s=s.split()\n",
    "l=[]\n",
    "for i in s:\n",
    "    l.append(int(i))\n",
    "    \n",
    "l"
   ]
  },
  {
   "cell_type": "code",
   "execution_count": 54,
   "metadata": {},
   "outputs": [
    {
     "name": "stdout",
     "output_type": "stream",
     "text": [
      "12\n"
     ]
    }
   ],
   "source": [
    "#digit sum\n",
    "\n",
    "s=\"sjqjs 34 hhdsjjqw 32\"\n",
    "st=\"\"\n",
    "sm=0\n",
    "for i in s:\n",
    "    if i.isdigit():\n",
    "        st+=i\n",
    "        \n",
    "for i in st:\n",
    "    sm+=int(i)\n",
    "print(sm)"
   ]
  },
  {
   "cell_type": "code",
   "execution_count": null,
   "metadata": {},
   "outputs": [],
   "source": []
  }
 ],
 "metadata": {
  "kernelspec": {
   "display_name": "Python 3",
   "language": "python",
   "name": "python3"
  },
  "language_info": {
   "codemirror_mode": {
    "name": "ipython",
    "version": 3
   },
   "file_extension": ".py",
   "mimetype": "text/x-python",
   "name": "python",
   "nbconvert_exporter": "python",
   "pygments_lexer": "ipython3",
   "version": "3.7.6"
  }
 },
 "nbformat": 4,
 "nbformat_minor": 4
}
